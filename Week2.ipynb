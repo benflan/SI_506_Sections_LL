{
 "cells": [
  {
   "cell_type": "markdown",
   "metadata": {},
   "source": [
    "# Week 2:\n",
    "\n",
    "## Key concepts\n",
    "1. Function / method / function call\n",
    "    1. What’s the difference between function & method\n",
    "    2. How to execute a function vs just assign a function to a variable\n",
    "    3. Any questions regarding the string and list functions mentioned in the reading? (.find()/.index()/.append().....etc)\n",
    "2. Data type: string / list / tuple\n",
    "3. Indexing & Slicing\n"
   ]
  },
  {
   "cell_type": "markdown",
   "metadata": {},
   "source": [
    "## Playground\n",
    "For demonstrating things on the fly"
   ]
  },
  {
   "cell_type": "code",
   "execution_count": 2,
   "metadata": {},
   "outputs": [
    {
     "name": "stdout",
     "output_type": "stream",
     "text": [
      "[1, 2, 3, [4]]\n"
     ]
    }
   ],
   "source": [
    "a_list = [1,2,3]\n",
    "a_list.append([4])\n",
    "print(a_list)\n"
   ]
  },
  {
   "cell_type": "markdown",
   "metadata": {},
   "source": [
    "## Exercise 1"
   ]
  },
  {
   "cell_type": "markdown",
   "metadata": {},
   "source": [
    "Translate this English to code. Why did you choose this way? Can you explain to\n",
    "one another what you're doing?  Write out your decisions in code or write your\n",
    "plan for writing code in outline form / diagram.\n",
    "\n",
    "I have a list of elements that are all strings. I want to add together all of\n",
    "the lengths of each string. So for example, if I had this list: [\"hello\", \"hi\",\n",
    "\"to\", \"you\"], I want to add up all the lengths of those words and print them out\n",
    "-- 12.\n"
   ]
  },
  {
   "cell_type": "markdown",
   "metadata": {},
   "source": [
    "## EXERCISE 2\n",
    "\n",
    "Work with your neighbor or in groups and try to work through the worksheet and\n",
    "answer the questions. If you can’t get the answer immediately, make a guess and\n",
    "discuss with your group.\n",
    "\n",
    "ab = [4, 3, 2, 1, 0]\n",
    "\n",
    "1. How would you get just the integer 4 from that list?\n",
    "\n",
    "2. How would you get a list of the elements [4, 3]?\n",
    "\n",
    "\n",
    "\n",
    "new_lst = [[“hi”, “106”, 110], 5, “bye”, []]\n",
    "\n",
    "3. How would you get just the list [“hi”,”106”, 110]?\n",
    "\n",
    "4. How would you get a list with the elements [5, “bye”]?\n",
    "\n",
    "5. There are two ways to get the string “bye” from the list. What are they?\n",
    "\n",
    "6. What type is the evaluation of the expression new_lst[-2:]?\n",
    "\n",
    "7. What type is the evaluation of the expression new_lst[1]?\n",
    "\n",
    "8. How would you get the index (the number) of the 5? \n",
    "\n",
    "9. How would you add the string “see ya” to the end of  new_lst?\n",
    "\n",
    "\n",
    "\n",
    "str_new = “Why, the sea is boiling hot!”\n",
    "\n",
    "10. How would you find the last character of this string str_new?\n",
    "\n",
    "11. How would you find the sixth (as HUMANS count) character of this string?\n",
    "\n",
    "12. How would you get a list [“Why,”, “the”, “sea”,”is”,”boiling”,”hot!”]?\n",
    "\n",
    "13. What about to get a list [“Why”, “ the sea is boiling hot!”]?\n",
    "\n",
    "14. How would you get just the string “the sea is boiling hot!”?\n",
    "\n",
    "15. How would you get the index of the first ‘t’ character in the string?\n",
    "    (That’s a lowercase ‘t’)\n",
    "\n",
    "16. How would you produce the string “WhyWhyWhy” from the string str_new?\n",
    "\n",
    "17. What will the following lines of code output? \n",
    "\n",
    "for character in str_new[:4] : print(character)\n"
   ]
  },
  {
   "cell_type": "code",
   "execution_count": null,
   "metadata": {},
   "outputs": [],
   "source": []
  }
 ],
 "metadata": {
  "kernelspec": {
   "display_name": "Python 3",
   "language": "python",
   "name": "python3"
  },
  "language_info": {
   "codemirror_mode": {
    "name": "ipython",
    "version": 3
   },
   "file_extension": ".py",
   "mimetype": "text/x-python",
   "name": "python",
   "nbconvert_exporter": "python",
   "pygments_lexer": "ipython3",
   "version": "3.6.6"
  }
 },
 "nbformat": 4,
 "nbformat_minor": 2
}
